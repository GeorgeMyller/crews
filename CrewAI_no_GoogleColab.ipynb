{
  "nbformat": 4,
  "nbformat_minor": 0,
  "metadata": {
    "colab": {
      "provenance": [],
      "authorship_tag": "ABX9TyNoe1m2wIrqN9Fut43brXsy",
      "include_colab_link": true
    },
    "kernelspec": {
      "name": "python3",
      "display_name": "Python 3"
    },
    "language_info": {
      "name": "python"
    }
  },
  "cells": [
    {
      "cell_type": "markdown",
      "metadata": {
        "id": "view-in-github",
        "colab_type": "text"
      },
      "source": [
        "<a href=\"https://colab.research.google.com/github/GeorgeMyller/crews/blob/main/CrewAI_no_GoogleColab.ipynb\" target=\"_parent\"><img src=\"https://colab.research.google.com/assets/colab-badge.svg\" alt=\"Open In Colab\"/></a>"
      ]
    },
    {
      "cell_type": "markdown",
      "source": [
        "# Utilizando Crew ai no Google colab.\n",
        "## Exemplo de Crew funcionando no Colab com API do Gemini"
      ],
      "metadata": {
        "id": "OkD2qRFZ4ALF"
      }
    },
    {
      "cell_type": "markdown",
      "source": [
        "Instalando pacotes necessários"
      ],
      "metadata": {
        "id": "ONIXYKah5jW7"
      }
    },
    {
      "cell_type": "code",
      "source": [
        "!pip install -U duckduckgo-search langchain_google_genai crewai crewai_tools"
      ],
      "metadata": {
        "collapsed": true,
        "id": "ORR1Pe3C5r8H"
      },
      "execution_count": null,
      "outputs": []
    },
    {
      "cell_type": "markdown",
      "source": [
        "Importando pacotes necessários"
      ],
      "metadata": {
        "id": "ftQvJUsN58XS"
      }
    },
    {
      "cell_type": "code",
      "source": [
        "from langchain_google_genai import ChatGoogleGenerativeAI\n",
        "from crewai import Agent, Task, Crew, Process\n",
        "from langchain.tools import tool\n",
        "from langchain.tools import DuckDuckGoSearchRun\n",
        "import requests\n",
        "from IPython.display import Markdown, display\n"
      ],
      "metadata": {
        "id": "CK0K9eIH5nLL"
      },
      "execution_count": 8,
      "outputs": []
    },
    {
      "cell_type": "markdown",
      "source": [
        "Usando API do Gemini\n",
        "\n",
        "Solicitar ao usuário que insira sua chave de API do Google\n"
      ],
      "metadata": {
        "id": "qNhvGZSJ6Fyb"
      }
    },
    {
      "cell_type": "code",
      "source": [
        "\n",
        "from google.colab import userdata\n",
        "userdata.get('GOOGLE_API_KEY')"
        "GOOGLE_API_KEY=userdata.get('GOOGLE_API_KEY')"
      ],
      "metadata": {
        "id": "KrnFtxbu6QXe"
      },
      "execution_count": null,
      "outputs": []
    },
    {
      "cell_type": "markdown",
      "source": [
        "Configurar gemini pro como LLM (Modelo de Linguagem)\n"
      ],
      "metadata": {
        "id": "dapOszJY64MA"
      }
    },
    {
      "cell_type": "code",
      "source": [
        "llm = ChatGoogleGenerativeAI(\n",
        "    model=\"gemini-1.5-pro\",\n",
        "    verbose=True,\n",
        "    temperature=0.7,\n",
        "    google_api_key=GOOGLE_API_KEY\n",
        ")"
      ],
      "metadata": {
        "id": "gaA3_Fv07Aw8"
      },
      "execution_count": 72,
      "outputs": []
    },
    {
      "cell_type": "markdown",
      "source": [
        "Criar ferramentas a serem utilizadas"
      ],
      "metadata": {
        "id": "XZRyb0gD7ZVj"
      }
    },
    {
      "cell_type": "code",
      "source": [
        "search_tool = DuckDuckGoSearchRun()"
      ],
      "metadata": {
        "id": "86aUHPDP7P6j"
      },
      "execution_count": 73,
      "outputs": []
    },
    {
      "cell_type": "markdown",
      "source": [
        " Definir agentes\n"
      ],
      "metadata": {
        "id": "edkc9k9O7mpj"
      }
    },
    {
      "cell_type": "markdown",
      "source": [
        "Agente 1"
      ],
      "metadata": {
        "id": "HFF7MQOl8YEY"
      }
    },
    {
      "cell_type": "code",
      "source": [
        "coach = Agent(\n",
        "    role='Senior Career Coach',\n",
        "    goal=\"Give advice to beginners programming.\",\n",
        "    backstory=\"You're an expert in spotting new trends.\",\n",
        "    verbose=True,\n",
        "    allow_delegation=False,\n",
        "    tools=[search_tool],\n",
        "    llm=llm\n",
        ")"
      ],
      "metadata": {
        "id": "17cRNWfj77lJ"
      },
      "execution_count": 74,
      "outputs": []
    },
    {
      "cell_type": "markdown",
      "source": [
        "Agente 2"
      ],
      "metadata": {
        "id": "7Sqqq31k8Z1N"
      }
    },
    {
      "cell_type": "code",
      "source": [
        "influencer = Agent(\n",
        "    role='Influencer Writer',\n",
        "    goal=\"Write catchy, emoji-filled posts within 1000 words\",\n",
        "    backstory=\"\"\"You are a influencer to like conucate science with the society, you carrer starts at 3 years ago.\n",
        "\"\"\",\n",
        "    verbose=True,\n",
        "    allow_delegation=True,\n",
        "    llm=llm\n",
        ")"
      ],
      "metadata": {
        "id": "ViA7Fb4Z8b6S"
      },
      "execution_count": 75,
      "outputs": []
    },
    {
      "cell_type": "markdown",
      "source": [
        "Agente 3"
      ],
      "metadata": {
        "id": "CYqlCas39FD7"
      }
    },
    {
      "cell_type": "code",
      "source": [
        "critic = Agent(\n",
        "    role='Senior copywriter',\n",
        "    goal=\"Give constructive feedback on post drafts\",\n",
        "    backstory=\"You're skilled in offering straightforward, effective advice. Ensure posts are concise, under 1000 words, with emojis and hashtags.\",\n",
        "    verbose=True,\n",
        "    allow_delegation=True,\n",
        "  llm=llm\n",
        ")"
      ],
      "metadata": {
        "id": "rdxCvmu79Gdy"
      },
      "execution_count": 76,
      "outputs": []
    },
    {
      "cell_type": "markdown",
      "source": [
        "Criar tarefas para estes agentes"
      ],
      "metadata": {
        "id": "5JFYtuDe9yly"
      }
    },
    {
      "cell_type": "markdown",
      "source": [
        "Tarefa Agente 1"
      ],
      "metadata": {
        "id": "9sZJG2zO96M1"
      }
    },
    {
      "cell_type": "code",
      "source": [
        "task_search = Task(\n",
        "    description=\"Compile a report listing skills, present in  people are starting a career.\",\n",
        "    agent=coach,\n",
        "    expected_output=\"A report listing at skills, to peoples to like start a carrer\"\n",
        "\n",
        ")"
      ],
      "metadata": {
        "id": "bWjSC_lc99w3"
      },
      "execution_count": 77,
      "outputs": []
    },
    {
      "cell_type": "markdown",
      "source": [
        "Tarega Agente 2"
      ],
      "metadata": {
        "id": "l0qTsDvX-LyM"
      }
    },
    {
      "cell_type": "code",
      "source": [
        "task_post = Task(\n",
        "    description=\"Create a post with a brief headline and a maximum of 1000 words.\",\n",
        "    agent=influencer,\n",
        "    expected_output=\"Post with a brief headline and a maximum of 1000 words.\"\n",
        "\n",
        ")"
      ],
      "metadata": {
        "id": "t_L2w_3s-N_U"
      },
      "execution_count": 78,
      "outputs": []
    },
    {
      "cell_type": "markdown",
      "source": [
        "Tarefa Agente 3"
      ],
      "metadata": {
        "id": "0cqTc5Yz-OSy"
      }
    },
    {
      "cell_type": "code",
      "source": [
        "task_critique = Task(\n",
        "    description=\"Refine the post for brevity, ensuring an engaging headline (no more than 200 characters) and keeping within a 1000-word limit\",\n",
        "    agent=critic,\n",
        "    output_file=\"post.md\",\n",
        "    expected_output=\"A exelent post with a brief headline (no more than 200 characters), a maximum of 1000 words, and relevant emojis and hashtags.\"\n",
        "\n",
        ")"
      ],
      "metadata": {
        "id": "fpNruKY2-QMQ"
      },
      "execution_count": 84,
      "outputs": []
    },
    {
      "cell_type": "markdown",
      "source": [
        "Inicializar a Crew e adicionar o agente e a tarefa.\n",
        "\n",
        "* **Neste caso a tarefa é sequencial**\n",
        "\n",
        "\n",
        "\n"
      ],
      "metadata": {
        "id": "KMU8VumT-vHv"
      }
    },
    {
      "cell_type": "code",
      "source": [
        "crew = Crew(\n",
        "    agents=[coach, influencer, critic],\n",
        "    tasks=[task_search, task_post, task_critique],\n",
        "    verbose=2,\n",
        "    process=Process.sequential\n",
        ")"
      ],
      "metadata": {
        "colab": {
          "base_uri": "https://localhost:8080/"
        },
        "id": "nwE08Tji-uqM",
        "outputId": "ea62db3f-9616-4d68-a0ea-ef6e7157b22a"
      },
      "execution_count": 85,
      "outputs": [
        {
          "output_type": "stream",
          "name": "stderr",
          "text": [
            "WARNING:opentelemetry.trace:Overriding of current TracerProvider is not allowed\n"
          ]
        }
      ]
    },
    {
      "cell_type": "markdown",
      "source": [
        "Execussão e Log"
      ],
      "metadata": {
        "id": "7RufoM8U_fUl"
      }
    },
    {
      "cell_type": "code",
      "source": [
        "result = crew.kickoff()\n",
        "\n",
        "print(\"######################\")\n",
        "print(result)\n"
      ],
      "metadata": {
        "colab": {
          "base_uri": "https://localhost:8080/"
        },
        "id": "mdZySEmZ_w7B",
        "outputId": "5e38aef9-98e1-4d95-e689-febdc3e8a699"
      },
      "execution_count": 86,
      "outputs": [
        {
          "output_type": "stream",
          "name": "stdout",
          "text": [
            "\u001b[1m\u001b[95m [DEBUG]: == Working Agent: Senior Career Coach\u001b[00m\n",
            "\u001b[1m\u001b[95m [INFO]: == Starting Task: Compile a report listing skills, present in  people are starting a career.\u001b[00m\n",
            "\n",
            "\n",
            "\u001b[1m> Entering new CrewAgentExecutor chain...\u001b[0m\n",
            "\u001b[32;1m\u001b[1;3mThought: To figure out what skills beginners need, I should see what the current job market looks like for entry-level programming roles. \n",
            "Action: duckduckgo_search\n",
            "Action Input: {\"query\": \"in-demand skills entry level programming jobs\"}\u001b[0m\u001b[95m \n",
            "\n",
            "1. Programmer analyst. National average salary: $75,515 per year Primary duties: A programmer analyst creates and inserts computer programs and software according to a company's business requirements. This involves writing, coding, testing and analyzing software applications and programs. The 5 Best Entry-Level Programming Jobs to Kickstart Your Career in Coding. Job Title Average Salary* Education Requirements; Computer Programmer: ... Coding jobs demand adept problem-solving skills and logical thinking to analyze complex issues, devise efficient algorithms, ... 5 entry-level programming jobs. 1. Programmer analyst. A programmer analyst develops and maintains software. Typically, programmer analysts work on business applications. A day in the life of a programmer analyst may include designing programs, testing software, and debugging, writing, and analyzing code. How to get an entry-level programming job. Step One: Get an education. Step Two: Learn the hard- and soft skills. Step Three: Build up your portfolio. Step Four: Prepare your application strategy. Step Five: Start applying and interviewing. Final thoughts and next steps. Entry-level programming jobs FAQ. 1. Landing an Entry-Level Coding Role: Real-Life Examples To Inspire You. You can design your coding career path for an entry-level role in different ways. Here are two examples for some inspiration: Felix Feng. Felix completed a coding bootcamp in 2016 and spent three months applying for jobs. He is now a senior front-end developer for a clothing ...\n",
            "\u001b[00m\n",
            "\u001b[32;1m\u001b[1;3mThought: The search results provide information about in-demand skills and entry-level programming jobs. I can extract relevant skills from the results.\n",
            "Final Answer: ## Report: In-Demand Skills for Entry-Level Programming Careers\n",
            "\n",
            "This report outlines essential skills for individuals starting a career in programming, based on current job market trends. \n",
            "\n",
            "**Technical Skills:**\n",
            "\n",
            "* **Programming Languages:** Proficiency in at least one programming language is crucial. Popular choices include:\n",
            "    * Python\n",
            "    * Java\n",
            "    * JavaScript\n",
            "    * C++\n",
            "    * C#\n",
            "* **Coding:** This encompasses writing clean, efficient, and well-documented code.\n",
            "* **Problem-Solving & Logical Thinking:** Analyzing complex problems, breaking them down, and devising effective solutions using algorithms is essential.\n",
            "* **Software Development Life Cycle (SDLC):** Understanding the different phases of software development, from planning and design to testing and deployment.\n",
            "* **Databases:** Familiarity with database concepts and experience with database management systems like SQL. \n",
            "* **Version Control:** Using tools like Git to track code changes and collaborate with others.\n",
            "\n",
            "**Soft Skills:**\n",
            "\n",
            "* **Communication:**  Clearly conveying technical information both verbally and in writing to colleagues and clients.\n",
            "* **Teamwork:** Collaborating effectively with other developers, designers, and stakeholders.\n",
            "* **Adaptability:**  Learning new technologies and adapting to evolving industry trends.\n",
            "* **Time Management:**  Prioritizing tasks and meeting deadlines effectively.\n",
            "* **Problem-Solving (Soft Skill):** Beyond technical solutions, this involves identifying challenges, analyzing options, and implementing the best course of action. \n",
            "\n",
            "**Additional Tips:**\n",
            "\n",
            "* **Build a Portfolio:** Showcase your skills by working on personal projects or contributing to open-source projects. \n",
            "* **Networking:** Attend industry events, connect with professionals online, and seek mentorship opportunities.\n",
            "* **Continuous Learning:**  The tech industry is constantly evolving. Stay updated with the latest technologies and trends.\n",
            "\n",
            "\n",
            "This report provides a starting point for individuals entering the programming field. Remember that specific skill requirements may vary depending on the job role and company. \n",
            "\u001b[0m\n",
            "\n",
            "\u001b[1m> Finished chain.\u001b[0m\n",
            "\u001b[1m\u001b[92m [DEBUG]: == [Senior Career Coach] Task output: ## Report: In-Demand Skills for Entry-Level Programming Careers\n",
            "\n",
            "This report outlines essential skills for individuals starting a career in programming, based on current job market trends. \n",
            "\n",
            "**Technical Skills:**\n",
            "\n",
            "* **Programming Languages:** Proficiency in at least one programming language is crucial. Popular choices include:\n",
            "    * Python\n",
            "    * Java\n",
            "    * JavaScript\n",
            "    * C++\n",
            "    * C#\n",
            "* **Coding:** This encompasses writing clean, efficient, and well-documented code.\n",
            "* **Problem-Solving & Logical Thinking:** Analyzing complex problems, breaking them down, and devising effective solutions using algorithms is essential.\n",
            "* **Software Development Life Cycle (SDLC):** Understanding the different phases of software development, from planning and design to testing and deployment.\n",
            "* **Databases:** Familiarity with database concepts and experience with database management systems like SQL. \n",
            "* **Version Control:** Using tools like Git to track code changes and collaborate with others.\n",
            "\n",
            "**Soft Skills:**\n",
            "\n",
            "* **Communication:**  Clearly conveying technical information both verbally and in writing to colleagues and clients.\n",
            "* **Teamwork:** Collaborating effectively with other developers, designers, and stakeholders.\n",
            "* **Adaptability:**  Learning new technologies and adapting to evolving industry trends.\n",
            "* **Time Management:**  Prioritizing tasks and meeting deadlines effectively.\n",
            "* **Problem-Solving (Soft Skill):** Beyond technical solutions, this involves identifying challenges, analyzing options, and implementing the best course of action. \n",
            "\n",
            "**Additional Tips:**\n",
            "\n",
            "* **Build a Portfolio:** Showcase your skills by working on personal projects or contributing to open-source projects. \n",
            "* **Networking:** Attend industry events, connect with professionals online, and seek mentorship opportunities.\n",
            "* **Continuous Learning:**  The tech industry is constantly evolving. Stay updated with the latest technologies and trends.\n",
            "\n",
            "\n",
            "This report provides a starting point for individuals entering the programming field. Remember that specific skill requirements may vary depending on the job role and company.\n",
            "\n",
            "\u001b[00m\n",
            "\u001b[1m\u001b[95m [DEBUG]: == Working Agent: Influencer Writer\u001b[00m\n",
            "\u001b[1m\u001b[95m [INFO]: == Starting Task: Create a post with a brief headline and a maximum of 1000 words.\u001b[00m\n",
            "\n",
            "\n",
            "\u001b[1m> Entering new CrewAgentExecutor chain...\u001b[0m\n",
            "\u001b[32;1m\u001b[1;3mThought: I need to break down this report into a catchy, emoji-filled post for my followers.  I should get help from my copywriter to make it engaging for social media.\n",
            "Action: Delegate work to co-worker\n",
            "Action Input: {\"task\": \"Can you help me turn this technical report into a fun and engaging social media post? I want to make it clear what skills beginners need for programming jobs. It needs to be less than 1000 words, ideally closer to a few hundred. Use emojis to make it more eye-catching.\", \"context\": \"## Report: In-Demand Skills for Entry-Level Programming Careers\n",
            "\n",
            "This report outlines essential skills for individuals starting a career in programming, based on current job market trends. \n",
            "\n",
            "**Technical Skills:**\n",
            "\n",
            "* **Programming Languages:** Proficiency in at least one programming language is crucial. Popular choices include:\n",
            "    * Python\n",
            "    * Java\n",
            "    * JavaScript\n",
            "    * C++\n",
            "    * C#\n",
            "* **Coding:** This encompasses writing clean, efficient, and well-documented code.\n",
            "* **Problem-Solving & Logical Thinking:** Analyzing complex problems, breaking them down, and devising effective solutions using algorithms is essential.\n",
            "* **Software Development Life Cycle (SDLC):** Understanding the different phases of software development, from planning and design to testing and deployment.\n",
            "* **Databases:** Familiarity with database concepts and experience with database management systems like SQL. \n",
            "* **Version Control:** Using tools like Git to track code changes and collaborate with others.\n",
            "\n",
            "**Soft Skills:**\n",
            "\n",
            "* **Communication:**  Clearly conveying technical information both verbally and in writing to colleagues and clients.\n",
            "* **Teamwork:** Collaborating effectively with other developers, designers, and stakeholders.\n",
            "* **Adaptability:**  Learning new technologies and adapting to evolving industry trends.\n",
            "* **Time Management:**  Prioritizing tasks and meeting deadlines effectively.\n",
            "* **Problem-Solving (Soft Skill):** Beyond technical solutions, this involves identifying challenges, analyzing options, and implementing the best course of action. \n",
            "\n",
            "**Additional Tips:**\n",
            "\n",
            "* **Build a Portfolio:** Showcase your skills by working on personal projects or contributing to open-source projects. \n",
            "* **Networking:** Attend industry events, connect with professionals online, and seek mentorship opportunities.\n",
            "* **Continuous Learning:**  The tech industry is constantly evolving. Stay updated with the latest technologies and trends.\n",
            "\n",
            "\n",
            "This report provides a starting point for individuals entering the programming field. Remember that specific skill requirements may vary depending on the job role and company.\", \"coworker\": \"Senior copywriter\"} \u001b[0m"
          ]
        },
        {
          "output_type": "stream",
          "name": "stderr",
          "text": [
            "WARNING:langchain_google_genai.chat_models:Retrying langchain_google_genai.chat_models._chat_with_retry.<locals>._chat_with_retry in 2.0 seconds as it raised ResourceExhausted: 429 Resource has been exhausted (e.g. check quota)..\n"
          ]
        },
        {
          "output_type": "stream",
          "name": "stdout",
          "text": [
            "\u001b[32;1m\u001b[1;3mThought:\n",
            "I need to break down this report into a catchy, emoji-filled post for my followers.  I should get help from my copywriter to make it engaging for social media.\n",
            "Action: Delegate work to co-worker\n",
            "Action Input: {\"task\": \"Can you help me turn this technical report into a fun and engaging social media post? I want to make it clear what skills beginners need for programming jobs. It needs to be less than 1000 words, ideally closer to a few hundred. Use emojis to make it more eye-catching.\", \"context\": \"## Report: In-Demand Skills for Entry-Level Programming Careers\\n\\nThis report outlines essential skills for individuals starting a career in programming, based on current job market trends. \\n\\n**Technical Skills:**\\n\\n* **Programming Languages:** Proficiency in at least one programming language is crucial. Popular choices include:\\n    * Python\\n    * Java\\n    * JavaScript\\n    * C++\\n    * C#\\n* **Coding:** This encompasses writing clean, efficient, and well-documented code.\\n* **Problem-Solving & Logical Thinking:** Analyzing complex problems, breaking them down, and devising effective solutions using algorithms is essential.\\n* **Software Development Life Cycle (SDLC):** Understanding the different phases of software development, from planning and design to testing and deployment.\\n* **Databases:** Familiarity with database concepts and experience with database management systems like SQL. \\n* **Version Control:** Using tools like Git to track code changes and collaborate with others.\\n\\n**Soft Skills:**\\n\\n* **Communication:**  Clearly conveying technical information both verbally and in writing to colleagues and clients.\\n* **Teamwork:** Collaborating effectively with other developers, designers, and stakeholders.\\n* **Adaptability:**  Learning new technologies and adapting to evolving industry trends.\\n* **Time Management:**  Prioritizing tasks and meeting deadlines effectively.\\n* **Problem-Solving (Soft Skill):** Beyond technical solutions, this involves identifying challenges, analyzing options, and implementing the best course of action. \\n\\n**Additional Tips:**\\n\\n* **Build a Portfolio:** Showcase your skills by working on personal projects or contributing to open-source projects. \\n* **Networking:** Attend industry events, connect with professionals online, and seek mentorship opportunities.\\n* **Continuous Learning:**  The tech industry is constantly evolving. Stay updated with the latest technologies and trends.\\n\\n\\nThis report provides a starting point for individuals entering the programming field. Remember that specific skill requirements may vary depending on the job role and company.\", \"coworker\": \"Senior copywriter\"}\u001b[0m\n",
            "\n",
            "\u001b[1m> Entering new CrewAgentExecutor chain...\u001b[0m\n",
            "\u001b[32;1m\u001b[1;3mThought: I can definitely turn this dry report into an exciting social media post! Let's break down those technical terms into relatable language and add some visual flair ✨.  \n",
            "\n",
            "Final Answer: \n",
            "\n",
            "##  Wanna Be a Coder? 🚀 Here's Your Skills Checklist! ✅ \n",
            "\n",
            "Thinking about a career in programming? It's more than just typing fast! 💻  Here's what you REALLY need to know to get started:\n",
            "\n",
            "**Level Up Your Tech Skills!** 🕹️\n",
            "\n",
            "* **Learn a Language (or two!):**  Think of programming languages like learning to speak to computers!  Popular ones are Python 🐍, Java ☕, JavaScript, C++, and C#.\n",
            "* **Code Like a Pro:** Writing code is like building with digital LEGOs! Make it neat, efficient, and easy for others to understand. \n",
            "* **Problem-Solve Like a Detective:**  Programmers are master problem-solvers! 🕵️‍♀️ You'll need to analyze tricky situations, break them down, and use your coding powers to create solutions.\n",
            "* **Get the Software Lifecycle:**  Understand how software goes from an idea to a real-life app!  \n",
            "* **Databases 101:**  Learn how to store and manage information like a digital librarian! 📚\n",
            "* **Version Control is Key:**  Tools like Git help you keep track of your code changes and work smoothly with others. \n",
            "\n",
            "**Soft Skills Matter Too!** 😎\n",
            "\n",
            "* **Communication is King:**  Talk tech clearly with your team and clients. 🗣️\n",
            "* **Teamwork Makes the Dream Work:** Be a coding collaborator! 🤝\n",
            "* **Embrace Change:**  The tech world moves fast!  Stay curious and keep learning. \n",
            "* **Time Management Ninja:** Juggle tasks and deadlines like a pro! 🤹\n",
            "* **Problem-Solving (Again!):**   It's not just about code!  Use your critical thinking to tackle any challenge. \n",
            "\n",
            "**Pro Tips!** 🤫\n",
            "\n",
            "* **Build a Portfolio:** Show off your skills with personal projects! \n",
            "* **Network, Network, Network!** Attend events and connect online.  \n",
            "* **Never Stop Learning!**  The tech world keeps evolving, so keep your skills sharp. \n",
            "\n",
            "Ready to start your coding journey?  Comment below with your biggest tech questions! 👇\n",
            "\n",
            "#programming #coding #careers #tech #softwaredevelopment #learntocode #beginner  \n",
            "\u001b[0m\n",
            "\n",
            "\u001b[1m> Finished chain.\u001b[0m\n",
            "\u001b[95m \n",
            "\n",
            "##  Wanna Be a Coder? 🚀 Here's Your Skills Checklist! ✅ \n",
            "\n",
            "Thinking about a career in programming? It's more than just typing fast! 💻  Here's what you REALLY need to know to get started:\n",
            "\n",
            "**Level Up Your Tech Skills!** 🕹️\n",
            "\n",
            "* **Learn a Language (or two!):**  Think of programming languages like learning to speak to computers!  Popular ones are Python 🐍, Java ☕, JavaScript, C++, and C#.\n",
            "* **Code Like a Pro:** Writing code is like building with digital LEGOs! Make it neat, efficient, and easy for others to understand. \n",
            "* **Problem-Solve Like a Detective:**  Programmers are master problem-solvers! 🕵️‍♀️ You'll need to analyze tricky situations, break them down, and use your coding powers to create solutions.\n",
            "* **Get the Software Lifecycle:**  Understand how software goes from an idea to a real-life app!  \n",
            "* **Databases 101:**  Learn how to store and manage information like a digital librarian! 📚\n",
            "* **Version Control is Key:**  Tools like Git help you keep track of your code changes and work smoothly with others. \n",
            "\n",
            "**Soft Skills Matter Too!** 😎\n",
            "\n",
            "* **Communication is King:**  Talk tech clearly with your team and clients. 🗣️\n",
            "* **Teamwork Makes the Dream Work:** Be a coding collaborator! 🤝\n",
            "* **Embrace Change:**  The tech world moves fast!  Stay curious and keep learning. \n",
            "* **Time Management Ninja:** Juggle tasks and deadlines like a pro! 🤹\n",
            "* **Problem-Solving (Again!):**   It's not just about code!  Use your critical thinking to tackle any challenge. \n",
            "\n",
            "**Pro Tips!** 🤫\n",
            "\n",
            "* **Build a Portfolio:** Show off your skills with personal projects! \n",
            "* **Network, Network, Network!** Attend events and connect online.  \n",
            "* **Never Stop Learning!**  The tech world keeps evolving, so keep your skills sharp. \n",
            "\n",
            "Ready to start your coding journey?  Comment below with your biggest tech questions! 👇\n",
            "\n",
            "#programming #coding #careers #tech #softwaredevelopment #learntocode #beginner\n",
            "\u001b[00m\n",
            "\u001b[32;1m\u001b[1;3mThought: I now know the final answer\n",
            "Final Answer: ##  Wanna Be a Coder? 🚀 Here's Your Skills Checklist! ✅ \n",
            "\n",
            "Thinking about a career in programming? It's more than just typing fast! 💻  Here's what you REALLY need to know to get started:\n",
            "\n",
            "**Level Up Your Tech Skills!** 🕹️\n",
            "\n",
            "* **Learn a Language (or two!):**  Think of programming languages like learning to speak to computers!  Popular ones are Python 🐍, Java ☕, JavaScript, C++, and C#.\n",
            "* **Code Like a Pro:** Writing code is like building with digital LEGOs! Make it neat, efficient, and easy for others to understand. \n",
            "* **Problem-Solve Like a Detective:**  Programmers are master problem-solvers! 🕵️‍♀️ You'll need to analyze tricky situations, break them down, and use your coding powers to create solutions.\n",
            "* **Get the Software Lifecycle:**  Understand how software goes from an idea to a real-life app!  \n",
            "* **Databases 101:**  Learn how to store and manage information like a digital librarian! 📚\n",
            "* **Version Control is Key:**  Tools like Git help you keep track of your code changes and work smoothly with others. \n",
            "\n",
            "**Soft Skills Matter Too!** 😎\n",
            "\n",
            "* **Communication is King:**  Talk tech clearly with your team and clients. 🗣️\n",
            "* **Teamwork Makes the Dream Work:** Be a coding collaborator! 🤝\n",
            "* **Embrace Change:**  The tech world moves fast!  Stay curious and keep learning. \n",
            "* **Time Management Ninja:** Juggle tasks and deadlines like a pro! 🤹\n",
            "* **Problem-Solving (Again!):**   It's not just about code!  Use your critical thinking to tackle any challenge. \n",
            "\n",
            "**Pro Tips!** 🤫\n",
            "\n",
            "* **Build a Portfolio:** Show off your skills with personal projects! \n",
            "* **Network, Network, Network!** Attend events and connect online.  \n",
            "* **Never Stop Learning!**  The tech world keeps evolving, so keep your skills sharp. \n",
            "\n",
            "Ready to start your coding journey?  Comment below with your biggest tech questions! 👇\n",
            "\n",
            "#programming #coding #careers #tech #softwaredevelopment #learntocode #beginner\u001b[0m\n",
            "\n",
            "\u001b[1m> Finished chain.\u001b[0m\n",
            "\u001b[1m\u001b[92m [DEBUG]: == [Influencer Writer] Task output: ##  Wanna Be a Coder? 🚀 Here's Your Skills Checklist! ✅ \n",
            "\n",
            "Thinking about a career in programming? It's more than just typing fast! 💻  Here's what you REALLY need to know to get started:\n",
            "\n",
            "**Level Up Your Tech Skills!** 🕹️\n",
            "\n",
            "* **Learn a Language (or two!):**  Think of programming languages like learning to speak to computers!  Popular ones are Python 🐍, Java ☕, JavaScript, C++, and C#.\n",
            "* **Code Like a Pro:** Writing code is like building with digital LEGOs! Make it neat, efficient, and easy for others to understand. \n",
            "* **Problem-Solve Like a Detective:**  Programmers are master problem-solvers! 🕵️‍♀️ You'll need to analyze tricky situations, break them down, and use your coding powers to create solutions.\n",
            "* **Get the Software Lifecycle:**  Understand how software goes from an idea to a real-life app!  \n",
            "* **Databases 101:**  Learn how to store and manage information like a digital librarian! 📚\n",
            "* **Version Control is Key:**  Tools like Git help you keep track of your code changes and work smoothly with others. \n",
            "\n",
            "**Soft Skills Matter Too!** 😎\n",
            "\n",
            "* **Communication is King:**  Talk tech clearly with your team and clients. 🗣️\n",
            "* **Teamwork Makes the Dream Work:** Be a coding collaborator! 🤝\n",
            "* **Embrace Change:**  The tech world moves fast!  Stay curious and keep learning. \n",
            "* **Time Management Ninja:** Juggle tasks and deadlines like a pro! 🤹\n",
            "* **Problem-Solving (Again!):**   It's not just about code!  Use your critical thinking to tackle any challenge. \n",
            "\n",
            "**Pro Tips!** 🤫\n",
            "\n",
            "* **Build a Portfolio:** Show off your skills with personal projects! \n",
            "* **Network, Network, Network!** Attend events and connect online.  \n",
            "* **Never Stop Learning!**  The tech world keeps evolving, so keep your skills sharp. \n",
            "\n",
            "Ready to start your coding journey?  Comment below with your biggest tech questions! 👇\n",
            "\n",
            "#programming #coding #careers #tech #softwaredevelopment #learntocode #beginner\n",
            "\n",
            "\u001b[00m\n",
            "\u001b[1m\u001b[95m [DEBUG]: == Working Agent: Senior copywriter\u001b[00m\n",
            "\u001b[1m\u001b[95m [INFO]: == Starting Task: Refine the post for brevity, ensuring an engaging headline (no more than 200 characters) and keeping within a 1000-word limit\u001b[00m\n",
            "\n",
            "\n",
            "\u001b[1m> Entering new CrewAgentExecutor chain...\u001b[0m\n",
            "\u001b[32;1m\u001b[1;3mThought: The post has great content, but it's a bit long and text-heavy.  To make it more engaging, I should shorten the headline, cut down the word count, and possibly add some visuals. I'll ask the Influencer Writer for help with making the post more concise and visually appealing.\n",
            "\n",
            "Action: Ask question to co-worker\n",
            "\n",
            "Action Input: \n",
            "```json\n",
            "{\n",
            "\"coworker\": \"Influencer Writer\",\n",
            "\"question\": \"How can I make this post more concise and visually appealing for a social media audience? I want to keep the key information but present it in a more engaging way.\",\n",
            "\"context\": \"##  Wanna Be a Coder? 🚀 Here's Your Skills Checklist! ✅ \\n\\nThinking about a career in programming? It's more than just typing fast! 💻  Here's what you REALLY need to know to get started:\\n\\n**Level Up Your Tech Skills!** 🕹️\\n\\n* **Learn a Language (or two!):**  Think of programming languages like learning to speak to computers!  Popular ones are Python 🐍, Java ☕, JavaScript, C++, and C#.\\n* **Code Like a Pro:** Writing code is like building with digital LEGOs! Make it neat, efficient, and easy for others to understand. \\n* **Problem-Solve Like a Detective:**  Programmers are master problem-solvers! 🕵️‍♀️ You'll need to analyze tricky situations, break them down, and use your coding powers to create solutions.\\n* **Get the Software Lifecycle:**  Understand how software goes from an idea to a real-life app!  \\n* **Databases 101:**  Learn how to store and manage information like a digital librarian! 📚\\n* **Version Control is Key:**  Tools like Git help you keep track of your code changes and work smoothly with others. \\n\\n**Soft Skills Matter Too!** 😎\\n\\n* **Communication is King:**  Talk tech clearly with your team and clients. 🗣️\\n* **Teamwork Makes the Dream Work:** Be a coding collaborator! 🤝\\n* **Embrace Change:**  The tech world moves fast!  Stay curious and keep learning. \\n* **Time Management Ninja:** Juggle tasks and deadlines like a pro! 🤹\\n* **Problem-Solving (Again!):**   It's not just about code!  Use your critical thinking to tackle any challenge. \\n\\n**Pro Tips!** 🤫\\n\\n* **Build a Portfolio:** Show off your skills with personal projects! \\n* **Network, Network, Network!** Attend events and connect online.  \\n* **Never Stop Learning!**  The tech world keeps evolving, so keep your skills sharp. \\n\\nReady to start your coding journey?  Comment below with your biggest tech questions! 👇\\n\\n#programming #coding #careers #tech #softwaredevelopment #learntocode #beginner\"\n",
            "}\n",
            "```\n",
            "\u001b[0m\u001b[32;1m\u001b[1;3mThought: I need to format the Action Input correctly as a dictionary.\n",
            "\n",
            "Action: Ask question to co-worker\n",
            "\n",
            "Action Input:\n",
            "```json\n",
            "{\n",
            "\"coworker\": \"Influencer Writer\",\n",
            "\"question\": \"How can I make this post more concise and visually appealing for a social media audience? I want to keep the key information but present it in a more engaging way.\",\n",
            "\"context\": \"##  Wanna Be a Coder? 🚀 Here's Your Skills Checklist! ✅ \\n\\nThinking about a career in programming? It's more than just typing fast! 💻  Here's what you REALLY need to know to get started:\\n\\n**Level Up Your Tech Skills!** 🕹️\\n\\n* **Learn a Language (or two!):**  Think of programming languages like learning to speak to computers!  Popular ones are Python 🐍, Java ☕, JavaScript, C++, and C#.\\n* **Code Like a Pro:** Writing code is like building with digital LEGOs! Make it neat, efficient, and easy for others to understand. \\n* **Problem-Solve Like a Detective:**  Programmers are master problem-solvers! 🕵️‍♀️ You'll need to analyze tricky situations, break them down, and use your coding powers to create solutions.\\n* **Get the Software Lifecycle:**  Understand how software goes from an idea to a real-life app!  \\n* **Databases 101:**  Learn how to store and manage information like a digital librarian! 📚\\n* **Version Control is Key:**  Tools like Git help you keep track of your code changes and work smoothly with others. \\n\\n**Soft Skills Matter Too!** 😎\\n\\n* **Communication is King:**  Talk tech clearly with your team and clients. 🗣️\\n* **Teamwork Makes the Dream Work:** Be a coding collaborator! 🤝\\n* **Embrace Change:**  The tech world moves fast!  Stay curious and keep learning. \\n* **Time Management Ninja:** Juggle tasks and deadlines like a pro! 🤹\\n* **Problem-Solving (Again!):**   It's not just about code!  Use your critical thinking to tackle any challenge. \\n\\n**Pro Tips!** 🤫\\n\\n* **Build a Portfolio:** Show off your skills with personal projects! \\n* **Network, Network, Network!** Attend events and connect online.  \\n* **Never Stop Learning!**  The tech world keeps evolving, so keep your skills sharp. \\n\\nReady to start your coding journey?  Comment below with your biggest tech questions! 👇\\n\\n#programming #coding #careers #tech #softwaredevelopment #learntocode #beginner\"\n",
            "}\n",
            "``` \n",
            "\u001b[0m\u001b[32;1m\u001b[1;3mThought: I need to ensure the Action Input is formatted correctly. Let's try removing the line breaks in the context.\n",
            "\n",
            "Action: Ask question to co-worker\n",
            "\n",
            "Action Input:\n",
            "```json\n",
            "{\n",
            "\"coworker\": \"Influencer Writer\",\n",
            "\"question\": \"How can I make this post more concise and visually appealing for a social media audience? I want to keep the key information but present it in a more engaging way.\",\n",
            "\"context\": \"##  Wanna Be a Coder? 🚀 Here's Your Skills Checklist! ✅ Thinking about a career in programming? It's more than just typing fast! 💻  Here's what you REALLY need to know to get started: **Level Up Your Tech Skills!** 🕹️ * **Learn a Language (or two!):**  Think of programming languages like learning to speak to computers!  Popular ones are Python 🐍, Java ☕, JavaScript, C++, and C#. * **Code Like a Pro:** Writing code is like building with digital LEGOs! Make it neat, efficient, and easy for others to understand.  * **Problem-Solve Like a Detective:**  Programmers are master problem-solvers! 🕵️‍♀️ You'll need to analyze tricky situations, break them down, and use your coding powers to create solutions. * **Get the Software Lifecycle:**  Understand how software goes from an idea to a real-life app!   * **Databases 101:**  Learn how to store and manage information like a digital librarian! 📚 * **Version Control is Key:**  Tools like Git help you keep track of your code changes and work smoothly with others.  **Soft Skills Matter Too!** 😎 * **Communication is King:**  Talk tech clearly with your team and clients. 🗣️ * **Teamwork Makes the Dream Work:** Be a coding collaborator! 🤝 * **Embrace Change:**  The tech world moves fast!  Stay curious and keep learning.  * **Time Management Ninja:** Juggle tasks and deadlines like a pro! 🤹 * **Problem-Solving (Again!):**   It's not just about code!  Use your critical thinking to tackle any challenge.  **Pro Tips!** 🤫 * **Build a Portfolio:** Show off your skills with personal projects!  * **Network, Network, Network!** Attend events and connect online.   * **Never Stop Learning!**  The tech world keeps evolving, so keep your skills sharp.  Ready to start your coding journey?  Comment below with your biggest tech questions! 👇 #programming #coding #careers #tech #softwaredevelopment #learntocode #beginner\"\n",
            "}\n",
            "``` \n",
            "\u001b[0m\u001b[32;1m\u001b[1;3mThought: I need to figure out the correct format for the Action Input. I keep getting errors, so something is wrong with how I'm formatting the dictionary.\n",
            "\n",
            "Action: Delegate work to co-worker \n",
            "\n",
            "Action Input:\n",
            "```json\n",
            "{\n",
            " \"coworker\": \"Senior Career Coach\",\n",
            " \"task\": \"Please help me debug why I'm getting errors when trying to format the Action Input. I think it's how I'm formatting the dictionary, but I can't figure it out.\",\n",
            " \"context\": \"The available actions are: Delegate work to co-worker, Ask question to co-worker. \\n The Action Input should be a dictionary. Here is an example of what I've been trying: \\n ```json\\n{\\n\\\"coworker\\\": \\\"Influencer Writer\\\",\\n\\\"question\\\": \\\"How can I make this post more concise and visually appealing for a social media audience? I want to keep the key information but present it in a more engaging way.\\\",\\n\\\"context\\\": \\\"##  Wanna Be a Coder? 🚀 Here's Your Skills Checklist! ✅ Thinking about a career in programming? It's more than just typing fast! 💻  Here's what you REALLY need to know to get started: **Level Up Your Tech Skills!** 🕹️ * **Learn a Language (or two!):**  Think of programming languages like learning to speak to computers!  Popular ones are Python 🐍, Java ☕, JavaScript, C++, and C#. * **Code Like a Pro:** Writing code is like building with digital LEGOs! Make it neat, efficient, and easy for others to understand.  * **Problem-Solve Like a Detective:**  Programmers are master problem-solvers! 🕵️‍♀️ You'll need to analyze tricky situations, break them down, and use your coding powers to create solutions. * **Get the Software Lifecycle:**  Understand how software goes from an idea to a real-life app!   * **Databases 101:**  Learn how to store and manage information like a digital librarian! 📚 * **Version Control is Key:**  Tools like Git help you keep track of your code changes and work smoothly with others.  **Soft Skills Matter Too!** 😎 * **Communication is King:**  Talk tech clearly with your team and clients. 🗣️ * **Teamwork Makes the Dream Work:** Be a coding collaborator! 🤝 * **Embrace Change:**  The tech world moves fast!  Stay curious and keep learning.  * **Time Management Ninja:** Juggle tasks and deadlines like a pro! 🤹 * **Problem-Solving (Again!):**   It's not just about code!  Use your critical thinking to tackle any challenge.  **Pro Tips!** 🤫 * **Build a Portfolio:** Show off your skills with personal projects!  * **Network, Network, Network!** Attend events and connect online.   * **Never Stop Learning!**  The tech world keeps evolving, so keep your skills sharp.  Ready to start your coding journey?  Comment below with your biggest tech questions! 👇 #programming #coding #careers #tech #softwaredevelopment #learntocode #beginner\\\"\\n}\\n```\"\n",
            "}\n",
            "``` \n",
            "\u001b[0m\u001b[32;1m\u001b[1;3mThought: I'm stuck in a loop of formatting errors. This seems like a technical issue rather than something the career coach or influencer writer can help with.  I'm going to have to try and figure out a different approach to get this task done. \n",
            "Action: None\n",
            "Action Input: {}\u001b[0m\u001b[91m \n",
            "\n",
            "Action 'None' don't exist, these are the only available Actions:\n",
            " Delegate work to co-worker: Delegate work to co-worker(task: str, context: str, coworker: Optional[str] = None, **kwargs) - Delegate a specific task to one of the following co-workers: [Senior Career Coach, Influencer Writer]\n",
            "The input to this tool should be the co-worker, the task you want them to do, and ALL necessary context to execute the task, they know nothing about the task, so share absolute everything you know, don't reference things but instead explain them.\n",
            "Ask question to co-worker: Ask question to co-worker(question: str, context: str, coworker: Optional[str] = None, **kwargs) - Ask a specific question to one of the following co-workers: [Senior Career Coach, Influencer Writer]\n",
            "The input to this tool should be the co-worker, the question you have for them, and ALL necessary context to ask the question properly, they know nothing about the question, so share absolute everything you know, don't reference things but instead explain them.\n",
            "\u001b[00m\n",
            "\u001b[32;1m\u001b[1;3mThought: I need to figure out how to format the Action Input correctly so I can use the tools. I'll try using single quotes for the keys instead of double quotes, and see if that resolves the issue.\n",
            "\n",
            "Action: Ask question to co-worker\n",
            "\n",
            "Action Input:\n",
            "```json\n",
            "{\n",
            "'coworker': 'Influencer Writer',\n",
            "'question': 'How can I make this post more concise and visually appealing for a social media audience? I want to keep the key information but present it in a more engaging way.',\n",
            "'context': '##  Wanna Be a Coder? 🚀 Here\\'s Your Skills Checklist! ✅ Thinking about a career in programming? It\\'s more than just typing fast! 💻  Here\\'s what you REALLY need to know to get started: **Level Up Your Tech Skills!** 🕹️ * **Learn a Language (or two!):**  Think of programming languages like learning to speak to computers!  Popular ones are Python 🐍, Java ☕, JavaScript, C++, and C#. * **Code Like a Pro:** Writing code is like building with digital LEGOs! Make it neat, efficient, and easy for others to understand.  * **Problem-Solve Like a Detective:**  Programmers are master problem-solvers! 🕵️‍♀️ You\\'ll need to analyze tricky situations, break them down, and use your coding powers to create solutions. * **Get the Software Lifecycle:**  Understand how software goes from an idea to a real-life app!   * **Databases 101:**  Learn how to store and manage information like a digital librarian! 📚 * **Version Control is Key:**  Tools like Git help you keep track of your code changes and work smoothly with others.  **Soft Skills Matter Too!** 😎 * **Communication is King:**  Talk tech clearly with your team and clients. 🗣️ * **Teamwork Makes the Dream Work:** Be a coding collaborator! 🤝 * **Embrace Change:**  The tech world moves fast!  Stay curious and keep learning.  * **Time Management Ninja:** Juggle tasks and deadlines like a pro! 🤹 * **Problem-Solving (Again!):**   It\\'s not just about code!  Use your critical thinking to tackle any challenge.  **Pro Tips!** 🤫 * **Build a Portfolio:** Show off your skills with personal projects!  * **Network, Network, Network!** Attend events and connect online.   * **Never Stop Learning!**  The tech world keeps evolving, so keep your skills sharp.  Ready to start your coding journey?  Comment below with your biggest tech questions! 👇 #programming #coding #careers #tech #softwaredevelopment #learntocode #beginner'\n",
            "}\n",
            "``` \n",
            "\u001b[0m\u001b[32;1m\u001b[1;3mThought:  I need to simplify the Action Input by escaping the single quotes within the context string. \n",
            "\n",
            "Action: Ask question to co-worker\n",
            "\n",
            "Action Input:\n",
            "```json\n",
            "{\n",
            "'coworker': 'Influencer Writer',\n",
            "'question': 'How can I make this post more concise and visually appealing for a social media audience? I want to keep the key information but present it in a more engaging way.',\n",
            "'context': '##  Wanna Be a Coder? 🚀 Here\\\\'s Your Skills Checklist! ✅ Thinking about a career in programming? It\\\\'s more than just typing fast! 💻  Here\\\\'s what you REALLY need to know to get started: **Level Up Your Tech Skills!** 🕹️ * **Learn a Language (or two!):**  Think of programming languages like learning to speak to computers!  Popular ones are Python 🐍, Java ☕, JavaScript, C++, and C#. * **Code Like a Pro:** Writing code is like building with digital LEGOs! Make it neat, efficient, and easy for others to understand.  * **Problem-Solve Like a Detective:**  Programmers are master problem-solvers! 🕵️‍♀️ You\\\\'ll need to analyze tricky situations, break them down, and use your coding powers to create solutions. * **Get the Software Lifecycle:**  Understand how software goes from an idea to a real-life app!   * **Databases 101:**  Learn how to store and manage information like a digital librarian! 📚 * **Version Control is Key:**  Tools like Git help you keep track of your code changes and work smoothly with others.  **Soft Skills Matter Too!** 😎 * **Communication is King:**  Talk tech clearly with your team and clients. 🗣️ * **Teamwork Makes the Dream Work:** Be a coding collaborator! 🤝 * **Embrace Change:**  The tech world moves fast!  Stay curious and keep learning.  * **Time Management Ninja:** Juggle tasks and deadlines like a pro! 🤹 * **Problem-Solving (Again!):**   It\\\\'s not just about code!  Use your critical thinking to tackle any challenge.  **Pro Tips!** 🤫 * **Build a Portfolio:** Show off your skills with personal projects!  * **Network, Network, Network!** Attend events and connect online.   * **Never Stop Learning!**  The tech world keeps evolving, so keep your skills sharp.  Ready to start your coding journey?  Comment below with your biggest tech questions! 👇 #programming #coding #careers #tech #softwaredevelopment #learntocode #beginner'\n",
            "}\n",
            "``` \n",
            "\u001b[0m\u001b[32;1m\u001b[1;3mThought: I need to try a different approach since escaping single quotes didn't work. I'll try using double quotes for the entire context string and escape the double quotes within it.\n",
            "\n",
            "Action: Ask question to co-worker\n",
            "\n",
            "Action Input:\n",
            "```json\n",
            "{\n",
            "\"coworker\": \"Influencer Writer\",\n",
            "\"question\": \"How can I make this post more concise and visually appealing for a social media audience? I want to keep the key information but present it in a more engaging way.\",\n",
            "\"context\": \"##  Wanna Be a Coder? 🚀 Here's Your Skills Checklist! ✅ Thinking about a career in programming? It's more than just typing fast! 💻  Here's what you REALLY need to know to get started: **Level Up Your Tech Skills!** 🕹️ * **Learn a Language (or two!):**  Think of programming languages like learning to speak to computers!  Popular ones are Python 🐍, Java ☕, JavaScript, C++, and C#. * **Code Like a Pro:** Writing code is like building with digital LEGOs! Make it neat, efficient, and easy for others to understand.  * **Problem-Solve Like a Detective:**  Programmers are master problem-solvers! 🕵️‍♀️ You'll need to analyze tricky situations, break them down, and use your coding powers to create solutions. * **Get the Software Lifecycle:**  Understand how software goes from an idea to a real-life app!   * **Databases 101:**  Learn how to store and manage information like a digital librarian! 📚 * **Version Control is Key:**  Tools like Git help you keep track of your code changes and work smoothly with others.  **Soft Skills Matter Too!** 😎 * **Communication is King:**  Talk tech clearly with your team and clients. 🗣️ * **Teamwork Makes the Dream Work:** Be a coding collaborator! 🤝 * **Embrace Change:**  The tech world moves fast!  Stay curious and keep learning.  * **Time Management Ninja:** Juggle tasks and deadlines like a pro! 🤹 * **Problem-Solving (Again!):**   It's not just about code!  Use your critical thinking to tackle any challenge.  **Pro Tips!** 🤫 * **Build a Portfolio:** Show off your skills with personal projects!  * **Network, Network, Network!** Attend events and connect online.   * **Never Stop Learning!**  The tech world keeps evolving, so keep your skills sharp.  Ready to start your coding journey?  Comment below with your biggest tech questions! 👇 #programming #coding #careers #tech #softwaredevelopment #learntocode #beginner\"\n",
            "}\n",
            "```\n",
            "\u001b[0m\u001b[32;1m\u001b[1;3mThought: Since I can't seem to use the tools due to the Action Input errors, I'll have to do my best to complete the task myself. \n",
            "\n",
            "Thought: I now can give a great answer\n",
            "Final Answer: \n",
            "\n",
            "##  🔥 Want to be a Coder?  Top Skills You Need! 🚀\n",
            "\n",
            "Thinking about a career in programming?  It's a hot field with tons of opportunity! 💥 Here are the ESSENTIAL skills you need to succeed:\n",
            "\n",
            "**💻 Tech Skills:**\n",
            "\n",
            "* **Learn a Language:** Python 🐍, Java ☕, JavaScript - these are your coding superpowers!\n",
            "* **Write Clean Code:** Make it neat and easy to understand. Think digital LEGOs! 🧱\n",
            "* **Problem-Solve:**  Analyze challenges and code creative solutions. 🕵️‍♀️\n",
            "* **Master Databases:**  Learn to store and manage info like a pro. 📚\n",
            "* **Get Git:**  Version control is key for collaboration. \n",
            "\n",
            "**💪 Soft Skills:**\n",
            "\n",
            "* **Communication is KEY:**  Explain tech clearly to anyone. 🗣️\n",
            "* **Team Player:**  Coding is a team sport! 🤝\n",
            "* **Embrace Change:** The tech world never stops moving! 💨\n",
            "* **Time Management:** Juggle tasks and deadlines like a boss. 🤹\n",
            "* **Critical Thinking:**  Sharpen your mind to solve any problem. 💡\n",
            "\n",
            "**🚀 Pro Tips:**\n",
            "\n",
            "* **Build a Portfolio:**  Show off your skills with cool projects. ✨\n",
            "* **Network:**  Attend events, connect online, build your community. 🌐\n",
            "* **Never Stop Learning:**  Keep your skills sharp in this ever-changing field. 📚\n",
            "\n",
            "**Ready to code your future?  Drop your questions below! 👇**\n",
            "\n",
            "#coding #programming #techcareers #softwaredeveloper #learntocode #techskills #softskills #codinglife #codingbootcamp \n",
            "\u001b[0m\n",
            "\n",
            "\u001b[1m> Finished chain.\u001b[0m\n",
            "\u001b[1m\u001b[92m [DEBUG]: == [Senior copywriter] Task output: ##  🔥 Want to be a Coder?  Top Skills You Need! 🚀\n",
            "\n",
            "Thinking about a career in programming?  It's a hot field with tons of opportunity! 💥 Here are the ESSENTIAL skills you need to succeed:\n",
            "\n",
            "**💻 Tech Skills:**\n",
            "\n",
            "* **Learn a Language:** Python 🐍, Java ☕, JavaScript - these are your coding superpowers!\n",
            "* **Write Clean Code:** Make it neat and easy to understand. Think digital LEGOs! 🧱\n",
            "* **Problem-Solve:**  Analyze challenges and code creative solutions. 🕵️‍♀️\n",
            "* **Master Databases:**  Learn to store and manage info like a pro. 📚\n",
            "* **Get Git:**  Version control is key for collaboration. \n",
            "\n",
            "**💪 Soft Skills:**\n",
            "\n",
            "* **Communication is KEY:**  Explain tech clearly to anyone. 🗣️\n",
            "* **Team Player:**  Coding is a team sport! 🤝\n",
            "* **Embrace Change:** The tech world never stops moving! 💨\n",
            "* **Time Management:** Juggle tasks and deadlines like a boss. 🤹\n",
            "* **Critical Thinking:**  Sharpen your mind to solve any problem. 💡\n",
            "\n",
            "**🚀 Pro Tips:**\n",
            "\n",
            "* **Build a Portfolio:**  Show off your skills with cool projects. ✨\n",
            "* **Network:**  Attend events, connect online, build your community. 🌐\n",
            "* **Never Stop Learning:**  Keep your skills sharp in this ever-changing field. 📚\n",
            "\n",
            "**Ready to code your future?  Drop your questions below! 👇**\n",
            "\n",
            "#coding #programming #techcareers #softwaredeveloper #learntocode #techskills #softskills #codinglife #codingbootcamp\n",
            "\n",
            "\u001b[00m\n",
            "######################\n",
            "##  🔥 Want to be a Coder?  Top Skills You Need! 🚀\n",
            "\n",
            "Thinking about a career in programming?  It's a hot field with tons of opportunity! 💥 Here are the ESSENTIAL skills you need to succeed:\n",
            "\n",
            "**💻 Tech Skills:**\n",
            "\n",
            "* **Learn a Language:** Python 🐍, Java ☕, JavaScript - these are your coding superpowers!\n",
            "* **Write Clean Code:** Make it neat and easy to understand. Think digital LEGOs! 🧱\n",
            "* **Problem-Solve:**  Analyze challenges and code creative solutions. 🕵️‍♀️\n",
            "* **Master Databases:**  Learn to store and manage info like a pro. 📚\n",
            "* **Get Git:**  Version control is key for collaboration. \n",
            "\n",
            "**💪 Soft Skills:**\n",
            "\n",
            "* **Communication is KEY:**  Explain tech clearly to anyone. 🗣️\n",
            "* **Team Player:**  Coding is a team sport! 🤝\n",
            "* **Embrace Change:** The tech world never stops moving! 💨\n",
            "* **Time Management:** Juggle tasks and deadlines like a boss. 🤹\n",
            "* **Critical Thinking:**  Sharpen your mind to solve any problem. 💡\n",
            "\n",
            "**🚀 Pro Tips:**\n",
            "\n",
            "* **Build a Portfolio:**  Show off your skills with cool projects. ✨\n",
            "* **Network:**  Attend events, connect online, build your community. 🌐\n",
            "* **Never Stop Learning:**  Keep your skills sharp in this ever-changing field. 📚\n",
            "\n",
            "**Ready to code your future?  Drop your questions below! 👇**\n",
            "\n",
            "#coding #programming #techcareers #softwaredeveloper #learntocode #techskills #softskills #codinglife #codingbootcamp\n"
          ]
        }
      ]
    },
    {
      "cell_type": "markdown",
      "source": [
        "Exibição do resultado final em Markdow"
      ],
      "metadata": {
        "id": "XOFVSZwvCjK1"
      }
    },
    {
      "cell_type": "code",
      "source": [
        "display(Markdown(\"./post.md\"))"
      ],
      "metadata": {
        "colab": {
          "base_uri": "https://localhost:8080/",
          "height": 513
        },
        "id": "BdsXpn3eC2Ql",
        "outputId": "1350218e-3577-4542-bb60-970d5317ba5c"
      },
      "execution_count": 87,
      "outputs": [
        {
          "output_type": "display_data",
          "data": {
            "text/plain": [
              "<IPython.core.display.Markdown object>"
            ],
            "text/markdown": "##  🔥 Want to be a Coder?  Top Skills You Need! 🚀\n\nThinking about a career in programming?  It's a hot field with tons of opportunity! 💥 Here are the ESSENTIAL skills you need to succeed:\n\n**💻 Tech Skills:**\n\n* **Learn a Language:** Python 🐍, Java ☕, JavaScript - these are your coding superpowers!\n* **Write Clean Code:** Make it neat and easy to understand. Think digital LEGOs! 🧱\n* **Problem-Solve:**  Analyze challenges and code creative solutions. 🕵️‍♀️\n* **Master Databases:**  Learn to store and manage info like a pro. 📚\n* **Get Git:**  Version control is key for collaboration. \n\n**💪 Soft Skills:**\n\n* **Communication is KEY:**  Explain tech clearly to anyone. 🗣️\n* **Team Player:**  Coding is a team sport! 🤝\n* **Embrace Change:** The tech world never stops moving! 💨\n* **Time Management:** Juggle tasks and deadlines like a boss. 🤹\n* **Critical Thinking:**  Sharpen your mind to solve any problem. 💡\n\n**🚀 Pro Tips:**\n\n* **Build a Portfolio:**  Show off your skills with cool projects. ✨\n* **Network:**  Attend events, connect online, build your community. 🌐\n* **Never Stop Learning:**  Keep your skills sharp in this ever-changing field. 📚\n\n**Ready to code your future?  Drop your questions below! 👇**\n\n#coding #programming #techcareers #softwaredeveloper #learntocode #techskills #softskills #codinglife #codingbootcamp"
          },
          "metadata": {}
        }
      ]
    }
  ]
}
